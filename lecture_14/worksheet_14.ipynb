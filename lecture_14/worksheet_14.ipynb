{
 "cells": [
  {
   "attachments": {},
   "cell_type": "markdown",
   "metadata": {},
   "source": [
    "# Worksheet 14\n",
    "\n",
    "Name:  Katie Rimey  \n",
    "UID: U57891497\n",
    "\n",
    "### Topics\n",
    "\n",
    "- Naive Bayes\n",
    "- Model Evaluation\n",
    "\n",
    "### Naive Bayes\n",
    "\n",
    "| Attribute A | Attribute B | Attribute C | Class |\n",
    "|-------------|-------------|-------------|-------|\n",
    "| Yes         | Single      | High        | No    |\n",
    "| No          | Married     | Mid         | No    |\n",
    "| No          | Single      | Low         | No    |\n",
    "| Yes         | Married     | High        | No    |\n",
    "| No          | Divorced    | Mid         | Yes   |\n",
    "| No          | Married     | Low         | No    |\n",
    "| Yes         | Divorced    | High        | No    |\n",
    "| No          | Single      | Mid         | Yes   |\n",
    "| No          | Married     | Low         | No    |\n",
    "| No          | Single      | Mid         | Yes   |\n",
    "\n",
    "a) Compute the following probabilities:\n",
    "\n",
    "- P(Attribute A = Yes | Class = No)\n",
    "- P(Attribute B = Divorced | Class = Yes)\n",
    "- P(Attribute C = High | Class = No)\n",
    "- P(Attribute C = Mid | Class = Yes)"
   ]
  },
  {
   "cell_type": "markdown",
   "metadata": {},
   "source": [
    "- 3/7\n",
    "- 1/3\n",
    "- 3/7\n",
    "- 1"
   ]
  },
  {
   "cell_type": "markdown",
   "metadata": {},
   "source": [
    "b) Classify the following unseen records:\n",
    "\n",
    "- (Yes, Married, Mid)\n",
    "- (No, Divorced, High)\n",
    "- (No, Single, High)\n",
    "- (No, Divorced, Low)"
   ]
  },
  {
   "cell_type": "markdown",
   "metadata": {},
   "source": [
    "- (Yes, Married, Mid) --> No\n",
    "- (No, Divorced, High) --> No\n",
    "- (No, Single, High) --> No\n",
    "- (No, Divorced, Low) --> No"
   ]
  },
  {
   "cell_type": "markdown",
   "metadata": {},
   "source": [
    "### Model Evaluation\n",
    "\n",
    "a) Write a function to generate the confusion matrix for a list of actual classes and a list of predicted classes"
   ]
  },
  {
   "cell_type": "code",
   "execution_count": 1,
   "metadata": {},
   "outputs": [
    {
     "name": "stdout",
     "output_type": "stream",
     "text": [
      "[[2, 3], [1, 4]]\n"
     ]
    }
   ],
   "source": [
    "actual_class = [\"Yes\", \"No\", \"No\", \"Yes\", \"No\", \"No\", \"Yes\", \"No\", \"No\", \"No\"]\n",
    "predicted_class = [\"Yes\", \"No\", \"Yes\", \"No\", \"No\", \"No\", \"Yes\", \"Yes\", \"Yes\", \"No\"]\n",
    "\n",
    "def confusion_matrix(actual, predicted):\n",
    "    TP = FN = FP = TN = 0\n",
    "    for i in range(len(actual)):\n",
    "        if actual[i] == \"Yes\" and predicted[i] == \"Yes\":\n",
    "            TP += 1\n",
    "        if actual[i] == \"Yes\" and predicted[i] == \"No\":\n",
    "            FN += 1\n",
    "        if actual[i] == \"No\" and predicted[i] == \"Yes\":\n",
    "            FP += 1\n",
    "        if actual[i] == \"No\" and predicted[i] == \"No\":\n",
    "            TN += 1\n",
    "    return [[TP, FP], [FN, TN]]\n",
    "\n",
    "print(confusion_matrix(actual_class, predicted_class))"
   ]
  },
  {
   "cell_type": "markdown",
   "metadata": {},
   "source": [
    "b) Assume you have the following Cost Matrix:\n",
    "\n",
    "|            | predicted = Y | predicted = N |\n",
    "|------------|---------------|---------------|\n",
    "| actual = Y |       -1      |       5       |\n",
    "| actual = N |        10     |       0       |\n",
    "\n",
    "What is the cost of the above classification?"
   ]
  },
  {
   "cell_type": "markdown",
   "metadata": {},
   "source": [
    "Cost = TP * Cost(Yes, Yes) + FN * Cost(Yes, No) + FP * Cost(No, Yes) + TN * Cost(No, No)\n",
    "\n",
    "- Cost(Yes, Yes) = -1 \n",
    "- Cost(Yes, No) = 5 \n",
    "- Cost(No, Yes) = 10 \n",
    "- Cost(No, No) = 0 \n",
    "\n",
    "`-1*2 + 1*5 + 3*10 + 4*0 = 33`"
   ]
  },
  {
   "cell_type": "markdown",
   "metadata": {},
   "source": [
    "c) Write a function that takes in the actual values, the predictions, and a cost matrix and outputs a cost. Test it on the above example."
   ]
  },
  {
   "cell_type": "code",
   "execution_count": 2,
   "metadata": {},
   "outputs": [
    {
     "name": "stdout",
     "output_type": "stream",
     "text": [
      "Cost: 15\n"
     ]
    }
   ],
   "source": [
    "\n",
    "def compute_classification_cost(actuals, predictions, cost_matrix):\n",
    "    assert len(actuals) == len(\n",
    "        predictions\n",
    "    ), \"Actuals and predictions should have the same length.\"\n",
    "    YY, YN, NY, NN = 0, 0, 0, 0\n",
    "    for actual, predicted in zip(actuals, predictions):\n",
    "        if actual == \"Y\" and predicted == \"Y\":\n",
    "            YY += 1\n",
    "        elif actual == \"Y\" and predicted == \"N\":\n",
    "            YN += 1\n",
    "        elif actual == \"N\" and predicted == \"Y\":\n",
    "            NY += 1\n",
    "        elif actual == \"N\" and predicted == \"N\":\n",
    "            NN += 1\n",
    "    cost = (\n",
    "        YY * cost_matrix[\"YY\"]\n",
    "        + YN * cost_matrix[\"YN\"]\n",
    "        + NY * cost_matrix[\"NY\"]\n",
    "        + NN * cost_matrix[\"NN\"]\n",
    "    )\n",
    "\n",
    "    return cost\n",
    "\n",
    "\n",
    "actuals = [\n",
    "    \"Y\",\n",
    "    \"Y\",\n",
    "    \"Y\",\n",
    "    \"N\",\n",
    "    \"N\",\n",
    "    \"N\",\n",
    "    \"N\",\n",
    "]  # Example actual values (3 Ys and 4 Ns based on distribution)\n",
    "predictions = [\"N\", \"N\", \"N\", \"N\", \"N\", \"N\", \"N\"]  # All are predicted as No\n",
    "cost_matrix = {\"YY\": -1, \"YN\": 5, \"NY\": 10, \"NN\": 0}\n",
    "\n",
    "cost = compute_classification_cost(actuals, predictions, cost_matrix)\n",
    "print(f\"Cost: {cost}\")"
   ]
  },
  {
   "cell_type": "markdown",
   "metadata": {},
   "source": [
    "d) Implement functions for the following:\n",
    "\n",
    "- accuracy\n",
    "- precision\n",
    "- recall\n",
    "- f-measure\n",
    "\n",
    "and apply them to the above example."
   ]
  },
  {
   "cell_type": "code",
   "execution_count": 4,
   "metadata": {},
   "outputs": [
    {
     "name": "stdout",
     "output_type": "stream",
     "text": [
      "Accuracy: 0.6\n",
      "Precision: 0.4\n",
      "Recall: 0.6666666666666666\n",
      "F-measure: 0.5\n"
     ]
    }
   ],
   "source": [
    "def accuracy(cm):\n",
    "    return (cm[0][0] + cm[1][1]) / sum(map(sum, cm))\n",
    "\n",
    "def precision(cm):\n",
    "    return cm[0][0] / (cm[0][0] + cm[0][1])\n",
    "\n",
    "def recall(cm):\n",
    "    return cm[0][0] / (cm[0][0] + cm[1][0])\n",
    "\n",
    "def f_measure(cm):\n",
    "    p = precision(cm)\n",
    "    r = recall(cm)\n",
    "    return 2 * p * r / (p + r)\n",
    "\n",
    "cm = confusion_matrix(actual_class, predicted_class)\n",
    "print(\"Accuracy:\", accuracy(cm))\n",
    "print(\"Precision:\", precision(cm))\n",
    "print(\"Recall:\", recall(cm))\n",
    "print(\"F-measure:\", f_measure(cm))"
   ]
  }
 ],
 "metadata": {
  "kernelspec": {
   "display_name": "Python 3",
   "language": "python",
   "name": "python3"
  },
  "language_info": {
   "codemirror_mode": {
    "name": "ipython",
    "version": 3
   },
   "file_extension": ".py",
   "mimetype": "text/x-python",
   "name": "python",
   "nbconvert_exporter": "python",
   "pygments_lexer": "ipython3",
   "version": "3.11.5"
  },
  "orig_nbformat": 4,
  "vscode": {
   "interpreter": {
    "hash": "e7370f93d1d0cde622a1f8e1c04877d8463912d04d973331ad4851f04de6915a"
   }
  }
 },
 "nbformat": 4,
 "nbformat_minor": 2
}
